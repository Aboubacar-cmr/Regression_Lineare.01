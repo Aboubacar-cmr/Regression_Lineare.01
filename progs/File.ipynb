{
 "cells": [
  {
   "cell_type": "markdown",
   "id": "51563f11",
   "metadata": {},
   "source": [
    " # Projet : Prédiction du prix d'une maison"
   ]
  },
  {
   "cell_type": "markdown",
   "id": "3e0e6562",
   "metadata": {},
   "source": [
    "**Description :** Ce projet à pour but de mettre en pratique mes connaissances en regression lineare avec la  bibliothèque sklearn sur le modele \"LinearRegression\".\\\n",
    "Je vais donc réalisé ce projet en quelques étapes avec des explications\n"
   ]
  },
  {
   "cell_type": "markdown",
   "id": "60df425b",
   "metadata": {},
   "source": [
    "**IMPORT DES BUBLIOTHEQUE NECESSAIRES**"
   ]
  },
  {
   "cell_type": "code",
   "execution_count": 1,
   "id": "db8edcca",
   "metadata": {},
   "outputs": [],
   "source": [
    "import numpy as np\n",
    "import pandas as pd\n",
    "import matplotlib.pyplot as plt\n",
    "from sklearn.linear_model import LinearRegression\n",
    "from sklearn.metrics import mean_squared_error\n",
    "import seaborn as sns"
   ]
  },
  {
   "cell_type": "markdown",
   "id": "87f9e276",
   "metadata": {},
   "source": [
    "**IMPORT DES DONNÉES**"
   ]
  },
  {
   "cell_type": "code",
   "execution_count": 2,
   "id": "117a53e0",
   "metadata": {},
   "outputs": [],
   "source": [
    "data = pd.read_csv('data/AmesHousing.txt',delimiter=\"\\t\")\n",
    "#data.info()\n",
    "#Je constate que mon dataSet est constiué de 2930 lignes et 82 colonnes et les types de colonnes sont des\n",
    "#entier, float et d'autre sont des objets"
   ]
  },
  {
   "cell_type": "markdown",
   "id": "8938c3aa",
   "metadata": {},
   "source": [
    "## SELCTION DES CARACTERISTIQUES\n",
    "Dans cette partie de je vais cherché les caracteristiques qui affectent le plus le prix de vente final d'une maison\n",
    "\n",
    "Mais avant tout il faut que je me debarasse de toutes les caracteristiques qui ne pourrons pas m'aider à avoir une bonne prediction commme :\n",
    "\n",
    "* PID\n",
    "* Year Built\n",
    "* Year Remod/Add\n",
    "* Garage Yr Blt\n",
    "* Mo Sold\n",
    "* Yr Sold"
   ]
  },
  {
   "cell_type": "code",
   "execution_count": 3,
   "id": "8dd00dbf",
   "metadata": {},
   "outputs": [],
   "source": [
    "#je vais diviser les données en deux partie bien que cette méthode risque d'avoir le biai\n",
    "train = data[:1460]\n",
    "test = data[1460:]"
   ]
  },
  {
   "cell_type": "code",
   "execution_count": 4,
   "id": "ef6069b1",
   "metadata": {},
   "outputs": [],
   "source": [
    "#Suppression des colonnes non interssantes\n",
    "train = train.drop(['PID','Year Built','Year Remod/Add','Garage Yr Blt','Mo Sold','Yr Sold'],axis=1)"
   ]
  },
  {
   "cell_type": "code",
   "execution_count": 5,
   "id": "bf9e9142",
   "metadata": {},
   "outputs": [],
   "source": [
    "#J'avais constater que certainnes colonnes etaient de type objet\n",
    "#Je vais recuperé toutes les colonnes de types entier et float  comme ça toutes les colonnes seront de type  numerique\n",
    "#car les colonnes de types non numerique ne sont pas faites pour la regression lineare\n",
    "train = train.select_dtypes(include=['int64','float'])"
   ]
  },
  {
   "cell_type": "code",
   "execution_count": 6,
   "id": "f15012e4",
   "metadata": {},
   "outputs": [],
   "source": [
    "#La question que je pause, est ce qu'il existe de valeur manquante dans mon train\n",
    "#Donc je vais recuperé les colonnes qui n'ont pas valeur manquates m\n",
    "serise_cols = train.isnull().sum()\n",
    "full_col_best = serise_cols[serise_cols == 0]"
   ]
  },
  {
   "cell_type": "code",
   "execution_count": 7,
   "id": "52e97e2c",
   "metadata": {},
   "outputs": [
    {
     "data": {
      "text/plain": [
       "Order              0\n",
       "MS SubClass        0\n",
       "Lot Area           0\n",
       "Overall Qual       0\n",
       "Overall Cond       0\n",
       "1st Flr SF         0\n",
       "2nd Flr SF         0\n",
       "Low Qual Fin SF    0\n",
       "Gr Liv Area        0\n",
       "Full Bath          0\n",
       "Half Bath          0\n",
       "Bedroom AbvGr      0\n",
       "Kitchen AbvGr      0\n",
       "TotRms AbvGrd      0\n",
       "Fireplaces         0\n",
       "Garage Cars        0\n",
       "Garage Area        0\n",
       "Wood Deck SF       0\n",
       "Open Porch SF      0\n",
       "Enclosed Porch     0\n",
       "3Ssn Porch         0\n",
       "Screen Porch       0\n",
       "Pool Area          0\n",
       "Misc Val           0\n",
       "SalePrice          0\n",
       "dtype: int64"
      ]
     },
     "execution_count": 7,
     "metadata": {},
     "output_type": "execute_result"
    }
   ],
   "source": [
    "#a partir de ce data serise je peu avoir les colonnes numeriques et sans valeur manquante dans mon train et test\n",
    "train = train[full_col_best.index]\n",
    "train.isnull().sum()"
   ]
  },
  {
   "cell_type": "markdown",
   "id": "9864b9df",
   "metadata": {},
   "source": [
    "Donc à ce stade mon train ne contient que des colonnes numerique et sans valeur manquantes.\\\n",
    "Et je peut donc utiliser mon objet serise \"full_col_best\" pour avoir les même caracteristique dans mon test "
   ]
  },
  {
   "cell_type": "markdown",
   "id": "8a394ba2",
   "metadata": {},
   "source": [
    "## Corrélation des colonnes caracteristiques avec la colonne cible\n",
    "\n",
    "Il est question maintenant de savoir quelles sont les colonnes qui ont une forte corrélation avec ma la colonnes cible. Il est possible le voir graphiquement qu'elle colonne match bien avec la colonne cible. "
   ]
  },
  {
   "cell_type": "code",
   "execution_count": 8,
   "id": "20916887",
   "metadata": {},
   "outputs": [
    {
     "data": {
      "text/plain": [
       "Misc Val           0.009903\n",
       "3Ssn Porch         0.038699\n",
       "Low Qual Fin SF    0.060352\n",
       "Order              0.068181\n",
       "MS SubClass        0.088504\n",
       "Overall Cond       0.099395\n",
       "Screen Porch       0.100121\n",
       "Bedroom AbvGr      0.106941\n",
       "Kitchen AbvGr      0.130843\n",
       "Pool Area          0.145474\n",
       "Enclosed Porch     0.165873\n",
       "2nd Flr SF         0.202352\n",
       "Half Bath          0.272870\n",
       "Lot Area           0.274730\n",
       "Wood Deck SF       0.319104\n",
       "Open Porch SF      0.344383\n",
       "TotRms AbvGrd      0.483701\n",
       "Fireplaces         0.485683\n",
       "Full Bath          0.518194\n",
       "1st Flr SF         0.657119\n",
       "Garage Area        0.662397\n",
       "Garage Cars        0.663485\n",
       "Gr Liv Area        0.698990\n",
       "Overall Qual       0.804562\n",
       "SalePrice          1.000000\n",
       "Name: SalePrice, dtype: float64"
      ]
     },
     "execution_count": 8,
     "metadata": {},
     "output_type": "execute_result"
    }
   ],
   "source": [
    "#Je vais donc utilser une technique est consiste à calculer la matrice de corrélation.\n",
    "matrice_corr = train.corr()\n",
    "matrice_corr_sort =matrice_corr['SalePrice'].abs().sort_values()\n",
    "matrice_corr_sort"
   ]
  },
  {
   "cell_type": "markdown",
   "id": "837504a0",
   "metadata": {},
   "source": [
    "NB : Plus la corrélation est proche de 1 plus la colonnes est bonnes à considérées.\\\n",
    "Je constate donc que la colonnes \"Overall Qual\" est la colonne qui a une forte corrélation avec la colonne cible plus que toutes les autres."
   ]
  },
  {
   "cell_type": "code",
   "execution_count": 9,
   "id": "721d0ab0",
   "metadata": {},
   "outputs": [
    {
     "data": {
      "text/plain": [
       "Wood Deck SF     0.319104\n",
       "Open Porch SF    0.344383\n",
       "TotRms AbvGrd    0.483701\n",
       "Fireplaces       0.485683\n",
       "Full Bath        0.518194\n",
       "1st Flr SF       0.657119\n",
       "Garage Area      0.662397\n",
       "Garage Cars      0.663485\n",
       "Gr Liv Area      0.698990\n",
       "Overall Qual     0.804562\n",
       "SalePrice        1.000000\n",
       "Name: SalePrice, dtype: float64"
      ]
     },
     "execution_count": 9,
     "metadata": {},
     "output_type": "execute_result"
    }
   ],
   "source": [
    "#A ce stade je vais definir une valeur de seul pour choisir les colonnes\n",
    "seuil = 0.3\n",
    "matrice_corr_sort = matrice_corr_sort[matrice_corr_sort > 0.3]\n",
    "matrice_corr_sort"
   ]
  },
  {
   "cell_type": "code",
   "execution_count": 10,
   "id": "33762b6b",
   "metadata": {},
   "outputs": [
    {
     "data": {
      "text/plain": [
       "<AxesSubplot:>"
      ]
     },
     "execution_count": 10,
     "metadata": {},
     "output_type": "execute_result"
    },
    {
     "data": {
      "image/png": "[encoded data removed]",
      "text/plain": [
       "<Figure size 432x288 with 2 Axes>"
      ]
     },
     "metadata": {
      "needs_background": "light"
     },
     "output_type": "display_data"
    }
   ],
   "source": [
    "#Pour aller plus loin, je vais afficher la corrélation avec un hitmat de la bubliothèque seaborn\n",
    "cormat = train[matrice_corr_sort.index].corr()\n",
    "sns.heatmap(cormat)"
   ]
  },
  {
   "cell_type": "markdown",
   "id": "4f02268c",
   "metadata": {},
   "source": [
    "Je constate qu'il y a des colonnes qui donne les même informations comme:\n",
    "* \"Gr Liv Area\" et \"TotRms AbvGrd\"\n",
    "* \"Garage Cars\" et \" Garage Area \"\n",
    "\n",
    "Donc je peux me debaraser encore de caracteristiques (variables)"
   ]
  },
  {
   "cell_type": "code",
   "execution_count": 11,
   "id": "4003b391",
   "metadata": {},
   "outputs": [],
   "source": [
    "#Je decide donc de me debarasser de la variable \"TotRms AbvGrd\" et \"Garage Cars\"\n",
    "final_cols = matrice_corr_sort.drop(['TotRms AbvGrd','Garage Cars']).index"
   ]
  },
  {
   "cell_type": "code",
   "execution_count": 12,
   "id": "2bc1cea5",
   "metadata": {},
   "outputs": [],
   "source": [
    "#Mon data train et test contient à ce stade des colonne interssante et sans des valeurs manquantes\n",
    "train = train[final_cols]\n",
    "train = train.dropna()\n",
    "test = test[final_cols]\n",
    "test = test.dropna()"
   ]
  },
  {
   "cell_type": "markdown",
   "id": "be1bd161",
   "metadata": {},
   "source": [
    "## Mise en place d'une fonction qui calcul entraine le modele renvoire l'erreur rmse\n",
    "Cette fonction va me permettre d'évaluer different modele avec des caracteristiques differents"
   ]
  },
  {
   "cell_type": "code",
   "execution_count": 13,
   "id": "62ae3399",
   "metadata": {},
   "outputs": [],
   "source": [
    "def evaluate_modele(train,test,features,targe):\n",
    "    #instanciation du modele\n",
    "    model = LinearRegression()\n",
    "    \n",
    "    #entrainement du modele\n",
    "    model.fit(train[features],train[target])\n",
    "    \n",
    "    #predition sur des données d'entrainement et sur les données de teste\n",
    "    predict_train = model.predict(train[features])\n",
    "    predict_test = model.predict(test[features])\n",
    "    \n",
    "    #Calcul des erreurs rmse pour les données d'entrainement et de teste\n",
    "    mse_train = mean_squared_error(predict_train,train[target])\n",
    "    mse_test = mean_squared_error(predict_test,test[target])\n",
    "    rmse_train = np.sqrt(mse_train)\n",
    "    rmse_test = np.sqrt(mse_test)\n",
    "    return rmse_train, rmse_test"
   ]
  },
  {
   "cell_type": "markdown",
   "id": "4471bfc1",
   "metadata": {},
   "source": [
    "## Evaluation du modele\n",
    "Je vais evaluer le modele avec la première meilleur variable, puis les deux première varialbes et toutes les autre qui sont superieur à mon seuil de 0.3 pour voir le changement des erreurs"
   ]
  },
  {
   "cell_type": "code",
   "execution_count": 14,
   "id": "28d88272",
   "metadata": {},
   "outputs": [
    {
     "name": "stdout",
     "output_type": "stream",
     "text": [
      "46532.75573479452\n",
      "49506.07186675043\n"
     ]
    }
   ],
   "source": [
    "#Avec la première meilleur variable\n",
    "features = ['Overall Qual']\n",
    "target = \"SalePrice\"\n",
    "rmse_train,rmse_test = evaluate_modele(train,test,features,target)\n",
    "print(rmse_train)\n",
    "print(rmse_test)"
   ]
  },
  {
   "cell_type": "code",
   "execution_count": 15,
   "id": "6a68541d",
   "metadata": {},
   "outputs": [
    {
     "name": "stdout",
     "output_type": "stream",
     "text": [
      "40261.45272225418\n",
      "42459.968118732235\n"
     ]
    }
   ],
   "source": [
    "#Avec les deux première meilleurs variables\n",
    "features = ['Overall Qual','Gr Liv Area']\n",
    "target = \"SalePrice\"\n",
    "rmse_train,rmse_test = evaluate_modele(train,test,features,target)\n",
    "print(rmse_train)\n",
    "print(rmse_test)"
   ]
  },
  {
   "cell_type": "code",
   "execution_count": 16,
   "id": "f0442d8f",
   "metadata": {},
   "outputs": [
    {
     "name": "stdout",
     "output_type": "stream",
     "text": [
      "RMSE Train :  34173.97629185851\n",
      "RMSE Test :  41032.026120197705\n"
     ]
    }
   ],
   "source": [
    "#Avec toutes autres variables sauf SalePrice\n",
    "features = final_cols.drop(['SalePrice'])\n",
    "target = \"SalePrice\"\n",
    "rmse_train,rmse_test = evaluate_modele(train,test,features,target)\n",
    "print(\"RMSE Train : \",rmse_train)\n",
    "print(\"RMSE Test : \",rmse_test)"
   ]
  },
  {
   "cell_type": "markdown",
   "id": "74a97293",
   "metadata": {},
   "source": [
    "Note : Je remarque que l'orsque l'erreurs rmse diminues avec deux variables, ce qui est mieux déjà\\\n",
    "Donc l'erreur diminue au fure et à mesure que j'augmente le nombre de caracteristiques.\n",
    "\n",
    "**L'augementation des caracteristiques n'augmente ne diminue pas forcement les erreur du modele**"
   ]
  },
  {
   "cell_type": "markdown",
   "id": "c2d30d15",
   "metadata": {},
   "source": [
    "A ce state je me pause la question qui est de savoir s'il existe des colonnes à faible variance?"
   ]
  },
  {
   "cell_type": "markdown",
   "id": "36793943",
   "metadata": {},
   "source": [
    "## Supprimer des colonnes à faible variance\n",
    "\n",
    "Lorsque les valeurs d'une caracteristique présente une faible variance, elle ne contribut d'une manière significatie à la capacité de prédiction du modèle .\n",
    "* Par exemple une colonne avec une variance 0 signifie une toutes les valeurs de cette colonne sont exatement les mêmes. Donc cela veut dire que la colonne n'apporte d'information donc il ne nous permet d'améliorer le modèle."
   ]
  },
  {
   "cell_type": "code",
   "execution_count": 19,
   "id": "0bedf945",
   "metadata": {},
   "outputs": [
    {
     "name": "stdout",
     "output_type": "stream",
     "text": [
      "Wood Deck SF     0.0\n",
      "Open Porch SF    0.0\n",
      "Fireplaces       0.0\n",
      "Full Bath        0.0\n",
      "1st Flr SF       0.0\n",
      "Garage Area      0.0\n",
      "Gr Liv Area      0.0\n",
      "Overall Qual     0.0\n",
      "dtype: float64\n",
      "Wood Deck SF     1.0\n",
      "Open Porch SF    1.0\n",
      "Fireplaces       1.0\n",
      "Full Bath        1.0\n",
      "1st Flr SF       1.0\n",
      "Garage Area      1.0\n",
      "Gr Liv Area      1.0\n",
      "Overall Qual     1.0\n",
      "dtype: float64\n",
      "Open Porch SF    0.013938\n",
      "Full Bath        0.018621\n",
      "Garage Area      0.020347\n",
      "Gr Liv Area      0.023078\n",
      "Overall Qual     0.024496\n",
      "1st Flr SF       0.025814\n",
      "Wood Deck SF     0.033064\n",
      "Fireplaces       0.046589\n",
      "dtype: float64\n"
     ]
    }
   ],
   "source": [
    "#Je vais donc redimenssionner les colonnes\n",
    "unit_train = (train[features]-train[features].min() )/ (train[features].max() - train[features].min())\n",
    "print(unit_train.min())\n",
    "print(unit_train.max())\n",
    "\n",
    "unit_train_sorted = unit_train.var().sort_values()\n",
    "print(unit_train_sorted)"
   ]
  },
  {
   "cell_type": "code",
   "execution_count": null,
   "id": "71231612",
   "metadata": {},
   "outputs": [],
   "source": []
  },
  {
   "cell_type": "code",
   "execution_count": 20,
   "id": "051119eb",
   "metadata": {},
   "outputs": [],
   "source": [
    "#La valeur minimum de chaque colonne est bien 0 et la valeur max et bien 1\n",
    "#Ensuite, j'ai les colonnes triées par ordre de croisssance de variance. Je peut donc définir un seul pour mon \n",
    "# des colonnes en fonction de la valeur de la variance\n",
    "#Je fixe ma variance seuil à 0.015\n",
    "#L'unique colonne à supprimer est la colonne \"Open Porch SF\""
   ]
  },
  {
   "cell_type": "code",
   "execution_count": 24,
   "id": "05adec76",
   "metadata": {},
   "outputs": [
    {
     "name": "stdout",
     "output_type": "stream",
     "text": [
      "RMSE Train :  34372.696707783965\n",
      "RMSE Test :  40591.427024377204\n"
     ]
    }
   ],
   "source": [
    "#Avec toutes autres variables sauf SalePrice\n",
    "features = final_cols.drop(['SalePrice'])\n",
    "features = features.drop([\"Open Porch SF\"])\n",
    "target = \"SalePrice\"\n",
    "rmse_train,rmse_test = evaluate_modele(train,test,features,target)\n",
    "print(\"RMSE Train : \",rmse_train)\n",
    "print(\"RMSE Test : \",rmse_test)"
   ]
  },
  {
   "cell_type": "markdown",
   "id": "6c801c76",
   "metadata": {},
   "source": [
    "**Je remarque une faible diminition de mes erreurs ,donc je confirme que la colonnes \"Open Porch SF\" n'améliorait pas \n",
    "la capacité de prédiction.**"
   ]
  }
 ],
 "metadata": {
  "kernelspec": {
   "display_name": "Python 3 (ipykernel)",
   "language": "python",
   "name": "python3"
  },
  "language_info": {
   "codemirror_mode": {
    "name": "ipython",
    "version": 3
   },
   "file_extension": ".py",
   "mimetype": "text/x-python",
   "name": "python",
   "nbconvert_exporter": "python",
   "pygments_lexer": "ipython3",
   "version": "3.9.7"
  }
 },
 "nbformat": 4,
 "nbformat_minor": 5
}
