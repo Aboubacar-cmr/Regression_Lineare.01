{
 "cells": [
  {
   "cell_type": "markdown",
   "id": "dae507d8",
   "metadata": {},
   "source": [
    " # Projet : Prédiction du prix d'une maison"
   ]
  },
  {
   "cell_type": "markdown",
   "id": "78eb0455",
   "metadata": {},
   "source": [
    "**Description :** Ce projet à pour but de mettre en pratique mes connaissances en regression lineare avec la  bibliothèque sklearn.\\\n",
    "Je vais donc réalisé ce projet en quelques étapes avec des explications\n"
   ]
  },
  {
   "cell_type": "markdown",
   "id": "4d39ee18",
   "metadata": {},
   "source": [
    "**IMPORT DES BUBLIOTHEQUE NECESSAIRES**"
   ]
  },
  {
   "cell_type": "code",
   "execution_count": 79,
   "id": "d986d696",
   "metadata": {},
   "outputs": [],
   "source": [
    "import numpy as np\n",
    "import pandas as pd\n",
    "import matplotlib.pyplot as plt\n",
    "from sklearn.linear_model import LinearRegression\n",
    "from sklearn.metrics import mean_squared_error"
   ]
  },
  {
   "cell_type": "markdown",
   "id": "0994800f",
   "metadata": {},
   "source": [
    "**IMPORT DES DONNÉES**"
   ]
  },
  {
   "cell_type": "code",
   "execution_count": 133,
   "id": "41e6fc12",
   "metadata": {},
   "outputs": [],
   "source": [
    "data = pd.read_csv('data/AmesHousing.txt',delimiter=\"\\t\")\n",
    "#data.info()\n",
    "#Je constate que mon dataSet est constiué de 2930 lignes et 82 colonnes et les types de colonnes sont des\n",
    "#entier, float et d'autre sont des objets"
   ]
  },
  {
   "cell_type": "markdown",
   "id": "5a6d6d70",
   "metadata": {},
   "source": [
    "## SELCTION DES CARACTERISTIQUES\n",
    "Dans cette partie de je vais cherché les caracteristiques qui affectent le plus le prix de vente final d'une maison\n",
    "\n",
    "Mais avant tout il faut que je me debarasse de toutes les caracteristiques qui ne pourrons pas m'aider à avoir une bonne prediction commme :\n",
    "\n",
    "* PID\n",
    "* Year Built\n",
    "* Year Remod/Add\n",
    "* Garage Yr Blt\n",
    "* Mo Sold\n",
    "* Yr Sold"
   ]
  },
  {
   "cell_type": "code",
   "execution_count": 134,
   "id": "04e5e0d9",
   "metadata": {},
   "outputs": [],
   "source": [
    "#je vais diviser les données en deux partie bien que cette méthode risque d'avoir le biai\n",
    "train = data[:1460]\n",
    "test = data[1460:]"
   ]
  },
  {
   "cell_type": "code",
   "execution_count": 135,
   "id": "c5f2765f",
   "metadata": {},
   "outputs": [],
   "source": [
    "#Suppression des colonnes non interssantes\n",
    "train = train.drop(['PID','Year Built','Year Remod/Add','Garage Yr Blt','Mo Sold','Yr Sold'],axis=1)"
   ]
  },
  {
   "cell_type": "code",
   "execution_count": 137,
   "id": "aceb5747",
   "metadata": {},
   "outputs": [],
   "source": [
    "#J'avais constater que certainnes colonnes etaient de type objet\n",
    "#Je vais recuperé toutes les colonnes de types entier et float  comme ça toutes les colonnes seront de type  numerique\n",
    "#car les colonnes de types non numerique ne sont pas faites pour la regression lineare\n",
    "train = train.select_dtypes(include=['int64','float'])"
   ]
  },
  {
   "cell_type": "code",
   "execution_count": 145,
   "id": "d4eb2211",
   "metadata": {},
   "outputs": [],
   "source": [
    "#La question que je pause, est ce qu'il existe de valeur manquante dans mon train\n",
    "#Donc je vais recuperé les colonnes qui n'ont pas valeur manquates m\n",
    "serise_cols = train.isnull().sum()\n",
    "full_col_best = serise_cols[serise_cols == 0]"
   ]
  },
  {
   "cell_type": "code",
   "execution_count": 146,
   "id": "2f4b7a1e",
   "metadata": {},
   "outputs": [
    {
     "data": {
      "text/plain": [
       "Order              0\n",
       "MS SubClass        0\n",
       "Lot Area           0\n",
       "Overall Qual       0\n",
       "Overall Cond       0\n",
       "1st Flr SF         0\n",
       "2nd Flr SF         0\n",
       "Low Qual Fin SF    0\n",
       "Gr Liv Area        0\n",
       "Full Bath          0\n",
       "Half Bath          0\n",
       "Bedroom AbvGr      0\n",
       "Kitchen AbvGr      0\n",
       "TotRms AbvGrd      0\n",
       "Fireplaces         0\n",
       "Garage Cars        0\n",
       "Garage Area        0\n",
       "Wood Deck SF       0\n",
       "Open Porch SF      0\n",
       "Enclosed Porch     0\n",
       "3Ssn Porch         0\n",
       "Screen Porch       0\n",
       "Pool Area          0\n",
       "Misc Val           0\n",
       "SalePrice          0\n",
       "dtype: int64"
      ]
     },
     "execution_count": 146,
     "metadata": {},
     "output_type": "execute_result"
    }
   ],
   "source": [
    "#a partir de ce data serise je peu avoir les colonnes numeriques et sans valeur manquante dans mon train et test\n",
    "train = train[full_col_best.index]\n",
    "train.isnull().sum()"
   ]
  },
  {
   "cell_type": "code",
   "execution_count": 147,
   "id": "e150f9e5",
   "metadata": {},
   "outputs": [],
   "source": [
    "#Donc à ce stade mon train ne contient que des colonnes numerique et sans valeur manquantes"
   ]
  },
  {
   "cell_type": "code",
   "execution_count": null,
   "id": "a4db2511",
   "metadata": {},
   "outputs": [],
   "source": []
  }
 ],
 "metadata": {
  "kernelspec": {
   "display_name": "Python 3 (ipykernel)",
   "language": "python",
   "name": "python3"
  },
  "language_info": {
   "codemirror_mode": {
    "name": "ipython",
    "version": 3
   },
   "file_extension": ".py",
   "mimetype": "text/x-python",
   "name": "python",
   "nbconvert_exporter": "python",
   "pygments_lexer": "ipython3",
   "version": "3.9.7"
  }
 },
 "nbformat": 4,
 "nbformat_minor": 5
}
